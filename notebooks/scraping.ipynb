{
 "cells": [
  {
   "cell_type": "code",
   "execution_count": 17,
   "metadata": {
    "collapsed": true
   },
   "outputs": [],
   "source": [
    "import requests\n",
    "from bs4 import BeautifulSoup\n",
    "import re"
   ]
  },
  {
   "cell_type": "code",
   "execution_count": 11,
   "metadata": {
    "collapsed": true
   },
   "outputs": [],
   "source": [
    "import tika\n",
    "tika.initVM()\n",
    "from tika import parser"
   ]
  },
  {
   "cell_type": "code",
   "execution_count": 2,
   "metadata": {
    "collapsed": true
   },
   "outputs": [],
   "source": [
    "qb_url_template = 'http://quizbowlpackets.com/{}/'"
   ]
  },
  {
   "cell_type": "code",
   "execution_count": 3,
   "metadata": {
    "collapsed": true
   },
   "outputs": [],
   "source": [
    "# Define id boundarues to dowmload and parse\n",
    "first = 2153\n",
    "last = 2155"
   ]
  },
  {
   "cell_type": "code",
   "execution_count": 38,
   "metadata": {
    "collapsed": true
   },
   "outputs": [],
   "source": [
    "# Test for one id\n",
    "i = 2154"
   ]
  },
  {
   "cell_type": "code",
   "execution_count": 48,
   "metadata": {
    "collapsed": true
   },
   "outputs": [],
   "source": [
    "import os"
   ]
  },
  {
   "cell_type": "code",
   "execution_count": 49,
   "metadata": {
    "collapsed": true
   },
   "outputs": [],
   "source": [
    "def get_tournament(t_id, take_first=None):\n",
    "    doc_re = re.compile(\".*\\.(pdf|doc|docx)$\")\n",
    "    \n",
    "    html_doc = requests.get(qb_url_template.format(i)).text\n",
    "    soup = BeautifulSoup(html_doc, 'html.parser')\n",
    "    download_links = [link.get('href') for link in soup.find_all('a')]\n",
    "    download_links = [link for link in download_links if doc_re.match(link)]\n",
    "    \n",
    "    if take_first is not None:\n",
    "        download_links = download_links[:take_first]\n",
    "#     print(download_links)\n",
    "\n",
    "    if not os.path.isdir(str(t_id)):\n",
    "        os.mkdir(str(t_id))\n",
    "    \n",
    "    # TODO: tqdm it\n",
    "    for dl in download_links:\n",
    "        response = requests.get(dl)\n",
    "        doc_name = dl.split('/')[-1]\n",
    "        if response.status_code == 200:\n",
    "            # Write to temp?\n",
    "            with open('{}/{}'.format(t_id, doc_name), 'wb') as f:\n",
    "                f.write(response.content)"
   ]
  },
  {
   "cell_type": "code",
   "execution_count": 50,
   "metadata": {
    "collapsed": true
   },
   "outputs": [],
   "source": [
    "get_tournament(i)"
   ]
  },
  {
   "cell_type": "code",
   "execution_count": 51,
   "metadata": {
    "collapsed": true
   },
   "outputs": [],
   "source": [
    "raw = parser.from_file('./2154/Packet1.docx')"
   ]
  },
  {
   "cell_type": "code",
   "execution_count": 69,
   "metadata": {},
   "outputs": [],
   "source": [
    "# re.findall('(?<=[0-9]\\. )(?s)[^\\[]*?(?=(?i)answer)', raw['content']) # Remowes bonuses in an ugly way\n",
    "# re.findall('(?<=[0-9]\\.)(?s).*?(?=(?i)answer)', raw['content'])\n",
    "questions, _, answers = zip(*re.findall('((?<=[0-9]\\. )(?s).*?)((?i)answer:)\\s*(.*?(?=\\n))', raw['content']))"
   ]
  },
  {
   "cell_type": "code",
   "execution_count": 79,
   "metadata": {},
   "outputs": [],
   "source": [
    "questions = list(map(lambda q: q.strip().replace('\\n',''), questions))\n",
    "answers = list(map(lambda a: re.sub('\\(.+\\)', '', a.strip()).strip(), answers))"
   ]
  },
  {
   "cell_type": "code",
   "execution_count": 80,
   "metadata": {},
   "outputs": [
    {
     "data": {
      "text/plain": [
       "['Poland',\n",
       " 'Wuthering Heights',\n",
       " 'Saturn',\n",
       " 'Algeria',\n",
       " 'Liver',\n",
       " 'Johannes Vermeer',\n",
       " 'Jim',\n",
       " 'Joshua',\n",
       " 'Cry, the Beloved Country',\n",
       " 'Gaius Julius Caesar',\n",
       " 'Alkenes',\n",
       " 'interest rate',\n",
       " 'Tim Duncan',\n",
       " 'The Carnival of the Animals',\n",
       " 'Sioux',\n",
       " 'French',\n",
       " 'Mughal Empire',\n",
       " 'Charles Baudelaire',\n",
       " 'Loki',\n",
       " 'boson',\n",
       " 'Ernesto Che Guevara',\n",
       " 'Phillis Wheatley',\n",
       " 'Guernica',\n",
       " 'Sharia',\n",
       " 'Wabash River',\n",
       " 'Cavalier Poetry',\n",
       " 'Po River',\n",
       " 'fire',\n",
       " 'Nicholas II',\n",
       " 'Le Chatelier’s principle',\n",
       " 'Pyotr Ilyich Tchaikovsky',\n",
       " '“The Dead”',\n",
       " 'Eczema',\n",
       " 'Diomedes',\n",
       " 'Mansa Musa',\n",
       " 'Inclined Plane',\n",
       " 'Islamic State of Iraq and Syria',\n",
       " '“The Case for Reparations”',\n",
       " 'complex numbers',\n",
       " 'White Noise',\n",
       " 'Edward III',\n",
       " 'JJ Thomson']"
      ]
     },
     "execution_count": 80,
     "metadata": {},
     "output_type": "execute_result"
    }
   ],
   "source": [
    "answers"
   ]
  }
 ],
 "metadata": {
  "kernelspec": {
   "display_name": "Python (base)",
   "language": "python",
   "name": "base"
  },
  "language_info": {
   "codemirror_mode": {
    "name": "ipython",
    "version": 3
   },
   "file_extension": ".py",
   "mimetype": "text/x-python",
   "name": "python",
   "nbconvert_exporter": "python",
   "pygments_lexer": "ipython3",
   "version": "3.5.4"
  }
 },
 "nbformat": 4,
 "nbformat_minor": 2
}
